{
 "cells": [
  {
   "cell_type": "code",
   "execution_count": 2,
   "metadata": {},
   "outputs": [
    {
     "name": "stdout",
     "output_type": "stream",
     "text": [
      "数据形状: (32,)\n"
     ]
    }
   ],
   "source": [
    "import numpy as np\n",
    "# 读取.npy文件\n",
    "W_QK_lam_v = np.load('datas\\QK_datas\\QK_arraylayer_0.npy',allow_pickle=True)\n",
    "# 查看数据的形状\n",
    "print(\"数据形状:\", W_QK_lam_v.shape)\n"
   ]
  }
 ],
 "metadata": {
  "kernelspec": {
   "display_name": "chatglm2-6b",
   "language": "python",
   "name": "python3"
  },
  "language_info": {
   "codemirror_mode": {
    "name": "ipython",
    "version": 3
   },
   "file_extension": ".py",
   "mimetype": "text/x-python",
   "name": "python",
   "nbconvert_exporter": "python",
   "pygments_lexer": "ipython3",
   "version": "3.10.13"
  },
  "orig_nbformat": 4
 },
 "nbformat": 4,
 "nbformat_minor": 2
}
